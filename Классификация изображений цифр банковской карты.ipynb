{
 "cells": [
  {
   "cell_type": "markdown",
   "metadata": {},
   "source": [
    "# Классификация изображений цифр банковской карты"
   ]
  },
  {
   "cell_type": "markdown",
   "metadata": {},
   "source": [
    "_Импорт библиотек_"
   ]
  },
  {
   "cell_type": "code",
   "execution_count": 2,
   "metadata": {},
   "outputs": [
    {
     "name": "stderr",
     "output_type": "stream",
     "text": [
      "Using TensorFlow backend.\n"
     ]
    }
   ],
   "source": [
    "import numpy as np\n",
    "\n",
    "import pandas as pd\n",
    "\n",
    "import matplotlib.pyplot as plt\n",
    "%matplotlib inline\n",
    "\n",
    "import seaborn as sns\n",
    "sns.set_style(\"whitegrid\")\n",
    "\n",
    "import os\n",
    "import cv2 as cv\n",
    "import random\n",
    "\n",
    "from PIL import Image\n",
    "\n",
    "from livelossplot import PlotLossesKeras\n",
    "from keras.callbacks import EarlyStopping\n",
    "\n",
    "from keras.models import Sequential\n",
    "from keras.layers import Conv2D, Activation, MaxPooling2D, Dropout, Flatten, Dense"
   ]
  },
  {
   "cell_type": "code",
   "execution_count": 3,
   "metadata": {},
   "outputs": [],
   "source": [
    "import tensorflow as tf\n",
    "from tensorflow.keras.preprocessing.image import ImageDataGenerator"
   ]
  },
  {
   "cell_type": "markdown",
   "metadata": {},
   "source": [
    "_Загрузка данных:_"
   ]
  },
  {
   "cell_type": "code",
   "execution_count": 4,
   "metadata": {},
   "outputs": [],
   "source": [
    "folder_path = os.path.dirname('~/Классификация изображений цифр банковской карты/Bank Card Number Dataset/')\n",
    "\n",
    "original_data_path = os.path.join(folder_path, 'original/')"
   ]
  },
  {
   "cell_type": "code",
   "execution_count": 5,
   "metadata": {},
   "outputs": [],
   "source": [
    "def load_images_from_folder(folder):\n",
    "    images = []\n",
    "    for filename in os.listdir(folder):\n",
    "        img = cv.imread(os.path.join(folder, filename))\n",
    "        if img is not None:\n",
    "            images.append(img)\n",
    "    return images"
   ]
  },
  {
   "cell_type": "code",
   "execution_count": 6,
   "metadata": {},
   "outputs": [],
   "source": [
    "imgs = []\n",
    "\n",
    "for i in range(10):\n",
    "    digit = load_images_from_folder(original_data_path + str(i))\n",
    "    imgs.append(digit)"
   ]
  },
  {
   "cell_type": "markdown",
   "metadata": {},
   "source": [
    "_Изменяем размеры изображений > 58 х 85:_"
   ]
  },
  {
   "cell_type": "code",
   "execution_count": 7,
   "metadata": {},
   "outputs": [],
   "source": [
    "imgs_resized = []\n",
    "\n",
    "for number in imgs:\n",
    "    digit_resized = []\n",
    "    for img in number:\n",
    "        resized = cv.resize(img, dsize=(58, 85), interpolation=cv.INTER_CUBIC) #average image dimensions = 85.14011299435029 (height) x 58.110734463276835 (width)\n",
    "        digit_resized.append(resized)\n",
    "    imgs_resized.append(digit_resized)"
   ]
  },
  {
   "cell_type": "markdown",
   "metadata": {},
   "source": [
    "_Расширяем набор данных и для каждого класса будет одинаковое количество данных:_"
   ]
  },
  {
   "cell_type": "code",
   "execution_count": 8,
   "metadata": {},
   "outputs": [],
   "source": [
    "imgs_equal = []\n",
    "max_img_count = 500\n",
    "\n",
    "for number in imgs_resized:\n",
    "    count=0\n",
    "    while(count != max_img_count):\n",
    "        rand_img = random.sample(number, 1)[0]\n",
    "        rows, cols, _ = rand_img.shape\n",
    "        matrix = cv.getRotationMatrix2D((cols,rows),random.randint(-10,10),1)\n",
    "        rotated = cv.warpAffine(rand_img,matrix,(cols,rows), flags=cv.INTER_LINEAR, borderMode=cv.BORDER_REPLICATE)\n",
    "\n",
    "        imgs_equal.append(rotated)\n",
    "        \n",
    "        count+=1"
   ]
  },
  {
   "cell_type": "code",
   "execution_count": 9,
   "metadata": {},
   "outputs": [],
   "source": [
    "def onehotencode(index, n):\n",
    "    return [1.0 if i == index else 0.0 for i in range(n)]"
   ]
  },
  {
   "cell_type": "code",
   "execution_count": 10,
   "metadata": {},
   "outputs": [],
   "source": [
    "labels = []\n",
    "for i in range(10):\n",
    "    for j in range(max_img_count):\n",
    "        labels.append(onehotencode(i, 10))"
   ]
  },
  {
   "cell_type": "markdown",
   "metadata": {},
   "source": [
    "_Нормализуем изображения, значения пикселей теперь будут в диапазоне от 0 до 1:_"
   ]
  },
  {
   "cell_type": "code",
   "execution_count": 11,
   "metadata": {},
   "outputs": [],
   "source": [
    "data = np.asarray(imgs_equal) / 255.0\n",
    "labels = np.asarray(labels)"
   ]
  },
  {
   "cell_type": "markdown",
   "metadata": {},
   "source": [
    "_Делим массив данных на тестовые и тренировочные данные:_"
   ]
  },
  {
   "cell_type": "code",
   "execution_count": 12,
   "metadata": {},
   "outputs": [
    {
     "name": "stderr",
     "output_type": "stream",
     "text": [
      "/Applications/anaconda3/lib/python3.6/site-packages/sklearn/model_selection/_split.py:2179: FutureWarning: From version 0.21, test_size will always complement train_size unless both are specified.\n",
      "  FutureWarning)\n"
     ]
    }
   ],
   "source": [
    "from sklearn.model_selection import train_test_split\n",
    "\n",
    "SEED = 1234\n",
    "np.random.seed = SEED\n",
    "\n",
    "X_train, X_test, Y_train, Y_test = train_test_split(data, labels, train_size=0.7)"
   ]
  },
  {
   "cell_type": "code",
   "execution_count": 13,
   "metadata": {},
   "outputs": [
    {
     "data": {
      "text/plain": [
       "((3500, 85, 58, 3), (1500, 85, 58, 3), (3500, 10), (1500, 10))"
      ]
     },
     "execution_count": 13,
     "metadata": {},
     "output_type": "execute_result"
    }
   ],
   "source": [
    "X_train.shape, X_test.shape, Y_train.shape, Y_test.shape"
   ]
  },
  {
   "cell_type": "markdown",
   "metadata": {},
   "source": [
    "_Создание модели:_"
   ]
  },
  {
   "cell_type": "code",
   "execution_count": 19,
   "metadata": {},
   "outputs": [],
   "source": [
    "# Входной слой (передаем также размер изображений)\n",
    "input_layer = tf.keras.layers.Input((85, 58, 3))\n",
    "\n",
    "# Скрытые слои\n",
    "hidden_layer_1 = tf.keras.layers.Conv2D(filters=10, kernel_size=(3,3),  activation=tf.keras.activations.relu)(input_layer)\n",
    "hidden_layer_2 = tf.keras.layers.Conv2D(filters=10, kernel_size=(5,5),  activation=tf.keras.activations.relu)(hidden_layer_1)\n",
    "hidden_layer_3 = tf.keras.layers.Conv2D(filters=10, kernel_size=(7,7),  activation=tf.keras.activations.relu)(hidden_layer_2)\n",
    "hidden_layer_4 = tf.keras.layers.Flatten()(hidden_layer_3)\n",
    "\n",
    "# Выходной слой\n",
    "output_layer = tf.keras.layers.Dense(10, activation=tf.keras.activations.softmax)(hidden_layer_4)\n",
    "\n",
    "# Собираем модель\n",
    "model = tf.keras.Model(inputs=input_layer, outputs=output_layer)\n",
    "\n",
    "#\n",
    "model.compile(tf.keras.optimizers.SGD(0.01), tf.keras.losses.categorical_crossentropy, metrics=['mse', 'accuracy'])"
   ]
  },
  {
   "cell_type": "markdown",
   "metadata": {},
   "source": [
    "_Выводим информацию по модели:_"
   ]
  },
  {
   "cell_type": "code",
   "execution_count": 20,
   "metadata": {
    "scrolled": true
   },
   "outputs": [
    {
     "name": "stdout",
     "output_type": "stream",
     "text": [
      "_________________________________________________________________\n",
      "Layer (type)                 Output Shape              Param #   \n",
      "=================================================================\n",
      "input_4 (InputLayer)         (None, 85, 58, 3)         0         \n",
      "_________________________________________________________________\n",
      "conv2d_9 (Conv2D)            (None, 83, 56, 10)        280       \n",
      "_________________________________________________________________\n",
      "conv2d_10 (Conv2D)           (None, 79, 52, 10)        2510      \n",
      "_________________________________________________________________\n",
      "conv2d_11 (Conv2D)           (None, 73, 46, 10)        4910      \n",
      "_________________________________________________________________\n",
      "flatten_3 (Flatten)          (None, 33580)             0         \n",
      "_________________________________________________________________\n",
      "dense_3 (Dense)              (None, 10)                335810    \n",
      "=================================================================\n",
      "Total params: 343,510\n",
      "Trainable params: 343,510\n",
      "Non-trainable params: 0\n",
      "_________________________________________________________________\n"
     ]
    }
   ],
   "source": [
    "model.summary()"
   ]
  },
  {
   "cell_type": "markdown",
   "metadata": {},
   "source": [
    "_Запуск модели:_"
   ]
  },
  {
   "cell_type": "code",
   "execution_count": 21,
   "metadata": {},
   "outputs": [
    {
     "data": {
      "image/png": "[encoded data removed]",
      "text/plain": [
       "<Figure size 864x864 with 3 Axes>"
      ]
     },
     "metadata": {
      "needs_background": "light"
     },
     "output_type": "display_data"
    }
   ],
   "source": [
    "EPOCHS = 10\n",
    "BATCH_SIZE = 80\n",
    "\n",
    "history = model.fit(X_train, Y_train,\n",
    "              batch_size=BATCH_SIZE,\n",
    "              epochs=EPOCHS,\n",
    "              validation_data=(X_test, Y_test),\n",
    "              verbose=0,\n",
    "              callbacks=[PlotLossesKeras()],\n",
    "              shuffle=True);"
   ]
  },
  {
   "cell_type": "markdown",
   "metadata": {},
   "source": [
    "_Сохраняем модель:_"
   ]
  },
  {
   "cell_type": "code",
   "execution_count": 22,
   "metadata": {},
   "outputs": [],
   "source": [
    "model.save('bank_card_model1.h5')"
   ]
  },
  {
   "cell_type": "markdown",
   "metadata": {},
   "source": [
    "_Загружаем предыдущую: (если требуется)_"
   ]
  },
  {
   "cell_type": "code",
   "execution_count": null,
   "metadata": {},
   "outputs": [],
   "source": [
    "loaded_model = tf.keras.models.load_model('bank_card_model.h5')"
   ]
  },
  {
   "cell_type": "markdown",
   "metadata": {},
   "source": [
    "_Проверка на рандомных значениях из набора данных:_"
   ]
  },
  {
   "cell_type": "code",
   "execution_count": 23,
   "metadata": {},
   "outputs": [
    {
     "name": "stdout",
     "output_type": "stream",
     "text": [
      "a g\n",
      "3 3\n",
      "9 9\n",
      "9 9\n",
      "1 1\n",
      "2 2\n",
      "4 4\n",
      "6 6\n",
      "2 2\n",
      "8 8\n",
      "3 3\n",
      "1 1\n",
      "0 0\n",
      "9 9\n",
      "6 6\n",
      "3 3\n",
      "1 1\n",
      "5 5\n",
      "0 0\n",
      "8 8\n",
      "3 3\n",
      "7 7\n",
      "7 7\n",
      "9 9\n",
      "4 4\n",
      "7 7\n",
      "6 6\n",
      "7 7\n",
      "7 7\n",
      "4 4\n",
      "8 8\n"
     ]
    }
   ],
   "source": [
    "print(\"a g\") # a – actual images, g – guessing result\n",
    "\n",
    "for x in range(30):\n",
    "    random_index = random.randint(0, 5000)\n",
    "    img = data[random_index]\n",
    "    img = np.expand_dims(img, axis=0)\n",
    "\n",
    "    guess = np.argmax(model.predict(img))\n",
    "    actual = np.argmax(labels[random_index])\n",
    "    print(actual, guess)"
   ]
  },
  {
   "cell_type": "markdown",
   "metadata": {},
   "source": [
    "_Проверка на рандомных значениях из оригинальных данных:_"
   ]
  },
  {
   "cell_type": "code",
   "execution_count": 24,
   "metadata": {},
   "outputs": [],
   "source": [
    "def load_image_from_folder(folder):\n",
    "    for filename in os.listdir(folder):\n",
    "        img = cv.imread(os.path.join(folder, filename))\n",
    "        resized = cv.resize(img, dsize=(58, 85), interpolation=cv.INTER_CUBIC) #average image dimensions = 85.14011299435029 (height) x 58.110734463276835 (width)\n",
    "\n",
    "        return np.asarray(resized)/255.0"
   ]
  },
  {
   "cell_type": "code",
   "execution_count": 25,
   "metadata": {},
   "outputs": [
    {
     "name": "stdout",
     "output_type": "stream",
     "text": [
      "a g\n",
      "0 0\n",
      "1 1\n",
      "2 2\n",
      "3 3\n",
      "4 4\n",
      "5 5\n",
      "6 6\n",
      "7 7\n",
      "8 8\n",
      "9 9\n"
     ]
    }
   ],
   "source": [
    "print(\"a g\")\n",
    "\n",
    "for i in range(10):\n",
    "    digit = load_image_from_folder(original_data_path + str(i))\n",
    "    \n",
    "    random_index = random.randint(0, 5000)\n",
    "    img_for_test = np.expand_dims(digit, axis=0)\n",
    "\n",
    "    guess = np.argmax(model.predict(img_for_test))\n",
    "    actual = i\n",
    "    print(actual, guess)"
   ]
  },
  {
   "cell_type": "code",
   "execution_count": null,
   "metadata": {},
   "outputs": [],
   "source": []
  }
 ],
 "metadata": {
  "kernelspec": {
   "display_name": "Python 3",
   "language": "python",
   "name": "python3"
  },
  "language_info": {
   "codemirror_mode": {
    "name": "ipython",
    "version": 3
   },
   "file_extension": ".py",
   "mimetype": "text/x-python",
   "name": "python",
   "nbconvert_exporter": "python",
   "pygments_lexer": "ipython3",
   "version": "3.7.6"
  }
 },
 "nbformat": 4,
 "nbformat_minor": 1
}
